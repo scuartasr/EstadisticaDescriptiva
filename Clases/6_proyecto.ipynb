{
 "cells": [
  {
   "attachments": {},
   "cell_type": "markdown",
   "metadata": {},
   "source": [
    "# <span style = 'color:red'>Proyecto del curso de Estadística Descriptiva</span>\n",
    "\n",
    "En este documento se realizará el análisis de una base de datos usando los elementos aprendidos en el curso de Estadística Descriptiva de Platzi. Esta base de datos contiene información relacionada con la velocidad y los tiempos de viaje en la ciudad de Medellín, y se puede acceder a la fuente haciendo clic [aquí](http://medata.gov.co/dataset/velocidad-y-tiempo-de-viaje-gt)."
   ]
  },
  {
   "cell_type": "code",
   "execution_count": 64,
   "metadata": {},
   "outputs": [
    {
     "data": {
      "text/plain": [
       "'es_ES.utf8'"
      ]
     },
     "execution_count": 64,
     "metadata": {},
     "output_type": "execute_result"
    }
   ],
   "source": [
    "# Lectura de paquetes importantes ===============\n",
    "\n",
    "import pandas as pd\n",
    "import numpy as np\n",
    "from sklearn import preprocessing, linear_model\n",
    "from matplotlib import pyplot as plt\n",
    "import janitor\n",
    "import seaborn as sns\n",
    "import locale\n",
    "locale.setlocale(locale.LC_ALL, 'es_ES.utf8')"
   ]
  },
  {
   "attachments": {},
   "cell_type": "markdown",
   "metadata": {},
   "source": [
    "# Lectura y revisión de los datos\n",
    "\n",
    "Se va a comenzar con la lectura y revisión de los datos que han sido obtenidos de MeData, la fuente de datos públicos del Distrito de Medellín."
   ]
  },
  {
   "cell_type": "code",
   "execution_count": 80,
   "metadata": {},
   "outputs": [
    {
     "name": "stderr",
     "output_type": "stream",
     "text": [
      "C:\\Users\\lenovo\\AppData\\Local\\Temp\\ipykernel_58664\\3532901690.py:3: DtypeWarning: Columns (0) have mixed types. Specify dtype option on import or set low_memory=False.\n",
      "  datos = pd.read_csv(direccion, delimiter = ';', decimal = \".\")\n"
     ]
    }
   ],
   "source": [
    "# Lectura de los datos\n",
    "direccion = '../Datos/velocidad_y_tiempo_de_viaje_gt.csv'\n",
    "datos = pd.read_csv(direccion, delimiter = ';', decimal = \".\")"
   ]
  },
  {
   "attachments": {},
   "cell_type": "markdown",
   "metadata": {},
   "source": [
    "Ahora se chequeará que las primeras y las últimas columnas del marco de datos sean correctos."
   ]
  },
  {
   "cell_type": "code",
   "execution_count": 81,
   "metadata": {},
   "outputs": [],
   "source": [
    "datos = janitor.clean_names(datos)"
   ]
  },
  {
   "cell_type": "code",
   "execution_count": 82,
   "metadata": {},
   "outputs": [
    {
     "data": {
      "text/html": [
       "<div>\n",
       "<style scoped>\n",
       "    .dataframe tbody tr th:only-of-type {\n",
       "        vertical-align: middle;\n",
       "    }\n",
       "\n",
       "    .dataframe tbody tr th {\n",
       "        vertical-align: top;\n",
       "    }\n",
       "\n",
       "    .dataframe thead th {\n",
       "        text-align: right;\n",
       "    }\n",
       "</style>\n",
       "<table border=\"1\" class=\"dataframe\">\n",
       "  <thead>\n",
       "    <tr style=\"text-align: right;\">\n",
       "      <th></th>\n",
       "      <th>id</th>\n",
       "      <th>fecha_hora</th>\n",
       "      <th>tv_[s]</th>\n",
       "      <th>corredor</th>\n",
       "      <th>dia</th>\n",
       "      <th>mes</th>\n",
       "      <th>ano</th>\n",
       "      <th>hora</th>\n",
       "      <th>fecha</th>\n",
       "      <th>nombre_corredor</th>\n",
       "      <th>flujo_tipo</th>\n",
       "      <th>sentido</th>\n",
       "      <th>inicio</th>\n",
       "      <th>fin</th>\n",
       "      <th>longitud_km</th>\n",
       "      <th>tv_minutos</th>\n",
       "      <th>velocidad_km_h</th>\n",
       "      <th>tv_min_km</th>\n",
       "      <th>diasem</th>\n",
       "      <th>nombre_dia</th>\n",
       "    </tr>\n",
       "  </thead>\n",
       "  <tbody>\n",
       "    <tr>\n",
       "      <th>0</th>\n",
       "      <td>1210</td>\n",
       "      <td>1/02/2017 6:00</td>\n",
       "      <td>377</td>\n",
       "      <td>2</td>\n",
       "      <td>1</td>\n",
       "      <td>2</td>\n",
       "      <td>2017</td>\n",
       "      <td>6</td>\n",
       "      <td>1/02/2017</td>\n",
       "      <td>Avenida Regional</td>\n",
       "      <td>Continuo</td>\n",
       "      <td>SN</td>\n",
       "      <td>Tugo</td>\n",
       "      <td>San Juan</td>\n",
       "      <td>6.6</td>\n",
       "      <td>6.3</td>\n",
       "      <td>63.0</td>\n",
       "      <td>1.0</td>\n",
       "      <td>3</td>\n",
       "      <td>Mi�rcoles</td>\n",
       "    </tr>\n",
       "    <tr>\n",
       "      <th>1</th>\n",
       "      <td>1212</td>\n",
       "      <td>1/02/2017 6:00</td>\n",
       "      <td>495</td>\n",
       "      <td>4</td>\n",
       "      <td>1</td>\n",
       "      <td>2</td>\n",
       "      <td>2017</td>\n",
       "      <td>6</td>\n",
       "      <td>1/02/2017</td>\n",
       "      <td>Autopista Sur</td>\n",
       "      <td>Continuo</td>\n",
       "      <td>NS</td>\n",
       "      <td>CTI</td>\n",
       "      <td>Calle 10</td>\n",
       "      <td>6.5</td>\n",
       "      <td>8.3</td>\n",
       "      <td>47.0</td>\n",
       "      <td>1.3</td>\n",
       "      <td>3</td>\n",
       "      <td>Mi�rcoles</td>\n",
       "    </tr>\n",
       "    <tr>\n",
       "      <th>2</th>\n",
       "      <td>1213</td>\n",
       "      <td>1/02/2017 6:00</td>\n",
       "      <td>495</td>\n",
       "      <td>5</td>\n",
       "      <td>1</td>\n",
       "      <td>2</td>\n",
       "      <td>2017</td>\n",
       "      <td>6</td>\n",
       "      <td>1/02/2017</td>\n",
       "      <td>Autopista Norte</td>\n",
       "      <td>Continuo</td>\n",
       "      <td>NS</td>\n",
       "      <td>Solla</td>\n",
       "      <td>Punto Cero</td>\n",
       "      <td>5.3</td>\n",
       "      <td>8.3</td>\n",
       "      <td>39.0</td>\n",
       "      <td>1.6</td>\n",
       "      <td>3</td>\n",
       "      <td>Mi�rcoles</td>\n",
       "    </tr>\n",
       "    <tr>\n",
       "      <th>3</th>\n",
       "      <td>1214</td>\n",
       "      <td>1/02/2017 6:00</td>\n",
       "      <td>401</td>\n",
       "      <td>6</td>\n",
       "      <td>1</td>\n",
       "      <td>2</td>\n",
       "      <td>2017</td>\n",
       "      <td>6</td>\n",
       "      <td>1/02/2017</td>\n",
       "      <td>Autopista Norte</td>\n",
       "      <td>Continuo</td>\n",
       "      <td>SN</td>\n",
       "      <td>Punto Cero</td>\n",
       "      <td>Solla</td>\n",
       "      <td>5.3</td>\n",
       "      <td>6.7</td>\n",
       "      <td>48.0</td>\n",
       "      <td>1.3</td>\n",
       "      <td>3</td>\n",
       "      <td>Mi�rcoles</td>\n",
       "    </tr>\n",
       "    <tr>\n",
       "      <th>4</th>\n",
       "      <td>1215</td>\n",
       "      <td>1/02/2017 6:00</td>\n",
       "      <td>693</td>\n",
       "      <td>7</td>\n",
       "      <td>1</td>\n",
       "      <td>2</td>\n",
       "      <td>2017</td>\n",
       "      <td>6</td>\n",
       "      <td>1/02/2017</td>\n",
       "      <td>Avenida 80</td>\n",
       "      <td>Interrumpido</td>\n",
       "      <td>NS</td>\n",
       "      <td>Calle 65</td>\n",
       "      <td>Calle 30</td>\n",
       "      <td>5.1</td>\n",
       "      <td>11.6</td>\n",
       "      <td>26.0</td>\n",
       "      <td>2.3</td>\n",
       "      <td>3</td>\n",
       "      <td>Mi�rcoles</td>\n",
       "    </tr>\n",
       "    <tr>\n",
       "      <th>682497</th>\n",
       "      <td>1805102</td>\n",
       "      <td>15/12/2020 20:00</td>\n",
       "      <td>439</td>\n",
       "      <td>22</td>\n",
       "      <td>15</td>\n",
       "      <td>12</td>\n",
       "      <td>2020</td>\n",
       "      <td>20</td>\n",
       "      <td>15/12/2020</td>\n",
       "      <td>Avenida San Juan</td>\n",
       "      <td>Interrumpido</td>\n",
       "      <td>EW</td>\n",
       "      <td>Avenida Regional</td>\n",
       "      <td>Avenida 80</td>\n",
       "      <td>2.5</td>\n",
       "      <td>7.3</td>\n",
       "      <td>20.5</td>\n",
       "      <td>2.9</td>\n",
       "      <td>2</td>\n",
       "      <td>Martes</td>\n",
       "    </tr>\n",
       "    <tr>\n",
       "      <th>682498</th>\n",
       "      <td>1805103</td>\n",
       "      <td>15/12/2020 20:00</td>\n",
       "      <td>315</td>\n",
       "      <td>23</td>\n",
       "      <td>15</td>\n",
       "      <td>12</td>\n",
       "      <td>2020</td>\n",
       "      <td>20</td>\n",
       "      <td>15/12/2020</td>\n",
       "      <td>Avenida Ferrocarril</td>\n",
       "      <td>Interrumpido</td>\n",
       "      <td>NS</td>\n",
       "      <td>Barranquilla</td>\n",
       "      <td>San Juan</td>\n",
       "      <td>2.3</td>\n",
       "      <td>5.3</td>\n",
       "      <td>26.3</td>\n",
       "      <td>2.3</td>\n",
       "      <td>2</td>\n",
       "      <td>Martes</td>\n",
       "    </tr>\n",
       "    <tr>\n",
       "      <th>682499</th>\n",
       "      <td>1805104</td>\n",
       "      <td>15/12/2020 20:00</td>\n",
       "      <td>463</td>\n",
       "      <td>24</td>\n",
       "      <td>15</td>\n",
       "      <td>12</td>\n",
       "      <td>2020</td>\n",
       "      <td>20</td>\n",
       "      <td>15/12/2020</td>\n",
       "      <td>Avenida Ferrocarril</td>\n",
       "      <td>Interrumpido</td>\n",
       "      <td>SN</td>\n",
       "      <td>San Juan</td>\n",
       "      <td>Barranquilla</td>\n",
       "      <td>2.3</td>\n",
       "      <td>7.7</td>\n",
       "      <td>17.9</td>\n",
       "      <td>3.4</td>\n",
       "      <td>2</td>\n",
       "      <td>Martes</td>\n",
       "    </tr>\n",
       "    <tr>\n",
       "      <th>682500</th>\n",
       "      <td>1805105</td>\n",
       "      <td>15/12/2020 20:00</td>\n",
       "      <td>361</td>\n",
       "      <td>25</td>\n",
       "      <td>15</td>\n",
       "      <td>12</td>\n",
       "      <td>2020</td>\n",
       "      <td>20</td>\n",
       "      <td>15/12/2020</td>\n",
       "      <td>Avenida Oriental</td>\n",
       "      <td>Interrumpido</td>\n",
       "      <td>SN</td>\n",
       "      <td>San Juan</td>\n",
       "      <td>Villanueva</td>\n",
       "      <td>1.6</td>\n",
       "      <td>6.0</td>\n",
       "      <td>16.0</td>\n",
       "      <td>3.8</td>\n",
       "      <td>2</td>\n",
       "      <td>Martes</td>\n",
       "    </tr>\n",
       "    <tr>\n",
       "      <th>682501</th>\n",
       "      <td>1805106</td>\n",
       "      <td>15/12/2020 20:00</td>\n",
       "      <td>282</td>\n",
       "      <td>26</td>\n",
       "      <td>15</td>\n",
       "      <td>12</td>\n",
       "      <td>2020</td>\n",
       "      <td>20</td>\n",
       "      <td>15/12/2020</td>\n",
       "      <td>Avenida Oriental</td>\n",
       "      <td>Interrumpido</td>\n",
       "      <td>NS</td>\n",
       "      <td>Villanueva</td>\n",
       "      <td>San Juan</td>\n",
       "      <td>1.6</td>\n",
       "      <td>4.7</td>\n",
       "      <td>20.4</td>\n",
       "      <td>2.9</td>\n",
       "      <td>2</td>\n",
       "      <td>Martes</td>\n",
       "    </tr>\n",
       "  </tbody>\n",
       "</table>\n",
       "</div>"
      ],
      "text/plain": [
       "             id        fecha_hora  tv_[s]  corredor  dia  mes   ano  hora  \\\n",
       "0          1210    1/02/2017 6:00     377         2    1    2  2017     6   \n",
       "1          1212    1/02/2017 6:00     495         4    1    2  2017     6   \n",
       "2          1213    1/02/2017 6:00     495         5    1    2  2017     6   \n",
       "3          1214    1/02/2017 6:00     401         6    1    2  2017     6   \n",
       "4          1215    1/02/2017 6:00     693         7    1    2  2017     6   \n",
       "682497  1805102  15/12/2020 20:00     439        22   15   12  2020    20   \n",
       "682498  1805103  15/12/2020 20:00     315        23   15   12  2020    20   \n",
       "682499  1805104  15/12/2020 20:00     463        24   15   12  2020    20   \n",
       "682500  1805105  15/12/2020 20:00     361        25   15   12  2020    20   \n",
       "682501  1805106  15/12/2020 20:00     282        26   15   12  2020    20   \n",
       "\n",
       "             fecha      nombre_corredor    flujo_tipo sentido  \\\n",
       "0        1/02/2017     Avenida Regional      Continuo      SN   \n",
       "1        1/02/2017        Autopista Sur      Continuo      NS   \n",
       "2        1/02/2017      Autopista Norte      Continuo      NS   \n",
       "3        1/02/2017      Autopista Norte      Continuo      SN   \n",
       "4        1/02/2017           Avenida 80  Interrumpido      NS   \n",
       "682497  15/12/2020     Avenida San Juan  Interrumpido      EW   \n",
       "682498  15/12/2020  Avenida Ferrocarril  Interrumpido      NS   \n",
       "682499  15/12/2020  Avenida Ferrocarril  Interrumpido      SN   \n",
       "682500  15/12/2020     Avenida Oriental  Interrumpido      SN   \n",
       "682501  15/12/2020     Avenida Oriental  Interrumpido      NS   \n",
       "\n",
       "                  inicio           fin  longitud_km  tv_minutos  \\\n",
       "0                   Tugo      San Juan          6.6         6.3   \n",
       "1                    CTI      Calle 10          6.5         8.3   \n",
       "2                  Solla    Punto Cero          5.3         8.3   \n",
       "3             Punto Cero         Solla          5.3         6.7   \n",
       "4               Calle 65      Calle 30          5.1        11.6   \n",
       "682497  Avenida Regional    Avenida 80          2.5         7.3   \n",
       "682498      Barranquilla      San Juan          2.3         5.3   \n",
       "682499          San Juan  Barranquilla          2.3         7.7   \n",
       "682500          San Juan    Villanueva          1.6         6.0   \n",
       "682501        Villanueva      San Juan          1.6         4.7   \n",
       "\n",
       "        velocidad_km_h  tv_min_km  diasem nombre_dia  \n",
       "0                 63.0        1.0       3  Mi�rcoles  \n",
       "1                 47.0        1.3       3  Mi�rcoles  \n",
       "2                 39.0        1.6       3  Mi�rcoles  \n",
       "3                 48.0        1.3       3  Mi�rcoles  \n",
       "4                 26.0        2.3       3  Mi�rcoles  \n",
       "682497            20.5        2.9       2     Martes  \n",
       "682498            26.3        2.3       2     Martes  \n",
       "682499            17.9        3.4       2     Martes  \n",
       "682500            16.0        3.8       2     Martes  \n",
       "682501            20.4        2.9       2     Martes  "
      ]
     },
     "execution_count": 82,
     "metadata": {},
     "output_type": "execute_result"
    }
   ],
   "source": [
    "pd.concat([datos.head(), datos.tail()], axis = 0)"
   ]
  },
  {
   "attachments": {},
   "cell_type": "markdown",
   "metadata": {},
   "source": [
    "Como se puede observar, no parece haber un traspase de columnas. Ahora, se revisará las dimensiones del marco de datos:"
   ]
  },
  {
   "cell_type": "code",
   "execution_count": 83,
   "metadata": {},
   "outputs": [
    {
     "data": {
      "text/plain": [
       "(682502, 20)"
      ]
     },
     "execution_count": 83,
     "metadata": {},
     "output_type": "execute_result"
    }
   ],
   "source": [
    "datos.shape"
   ]
  },
  {
   "attachments": {},
   "cell_type": "markdown",
   "metadata": {},
   "source": [
    "Como se puede observar, se cuenta con $682,502$ observaciones y con $20$ características. Luego, se chequeará el formato de dato de cada una de las características:"
   ]
  },
  {
   "cell_type": "code",
   "execution_count": 84,
   "metadata": {},
   "outputs": [
    {
     "data": {
      "text/plain": [
       "id                  object\n",
       "fecha_hora          object\n",
       "tv_[s]               int64\n",
       "corredor             int64\n",
       "dia                  int64\n",
       "mes                  int64\n",
       "ano                  int64\n",
       "hora                 int64\n",
       "fecha               object\n",
       "nombre_corredor     object\n",
       "flujo_tipo          object\n",
       "sentido             object\n",
       "inicio              object\n",
       "fin                 object\n",
       "longitud_km        float64\n",
       "tv_minutos         float64\n",
       "velocidad_km_h     float64\n",
       "tv_min_km          float64\n",
       "diasem               int64\n",
       "nombre_dia          object\n",
       "dtype: object"
      ]
     },
     "execution_count": 84,
     "metadata": {},
     "output_type": "execute_result"
    }
   ],
   "source": [
    "datos.dtypes"
   ]
  },
  {
   "attachments": {},
   "cell_type": "markdown",
   "metadata": {},
   "source": [
    "Como se puede observar, la mayoría de los datos están en un formato adecuado según la documentación de este marco de datos (disponible en el enlace dejado al inicio de este cuadernillo). No obstante, las fechas tienen un formato tipo `object`, por lo que vale hacer la corrección del tipo de dato de las columnas `fecha_hora`, como la columna `fecha` simplemente replica a `fecha_hora` pero sin la hora, se arrojará del marco de datos para no tener columnas redundantes.\n",
    "\n",
    "Asimismo, se puede usar la columna `id` como el índice de cada una de las columnas."
   ]
  },
  {
   "cell_type": "code",
   "execution_count": 48,
   "metadata": {},
   "outputs": [],
   "source": [
    "# Columna de id como índice de cada una de las filas\n",
    "datos.set_index('id', inplace = True)"
   ]
  },
  {
   "cell_type": "code",
   "execution_count": 85,
   "metadata": {},
   "outputs": [],
   "source": [
    "# Columna 'fecha_hora' en formato datetime\n",
    "datos.fecha_hora = pd.to_datetime(datos.fecha_hora, errors = 'ignore')"
   ]
  },
  {
   "cell_type": "code",
   "execution_count": 86,
   "metadata": {},
   "outputs": [],
   "source": [
    "# Eliminación de la columna fecha\n",
    "datos.drop(['fecha'], axis = 1, inplace = True)"
   ]
  },
  {
   "attachments": {},
   "cell_type": "markdown",
   "metadata": {},
   "source": [
    "Ahora, como se pudo observar en la revisión de las primeras y últimas cinco columnas del marco de datos, los días de la semana están siendo codificiados de forma inadecuada (esto a pesar de usar varias opciones para el `encoding`), veámoslo con mayor claridad enseguida:"
   ]
  },
  {
   "cell_type": "code",
   "execution_count": 87,
   "metadata": {},
   "outputs": [
    {
     "data": {
      "text/plain": [
       "array(['Mi�rcoles', 'Jueves', 'Viernes', 'S�bado', 'Lunes', 'Martes',\n",
       "       'Domingo', 'jueves', 'mi�rcoles', 'martes'], dtype=object)"
      ]
     },
     "execution_count": 87,
     "metadata": {},
     "output_type": "execute_result"
    }
   ],
   "source": [
    "datos.nombre_dia.unique()"
   ]
  },
  {
   "attachments": {},
   "cell_type": "markdown",
   "metadata": {},
   "source": [
    "Nótese el problema con los días 'Miércoles' y 'Sábado', además que en algunos casos se usa mayúscula inicial y en otros no. Para poder solucionar esta problemática, y aprovechando que se conoce el día del registro, se obtendrá el día de este registro."
   ]
  },
  {
   "cell_type": "code",
   "execution_count": 88,
   "metadata": {},
   "outputs": [],
   "source": [
    "# Eliminación de la columna nombre_dia\n",
    "datos.drop(['nombre_dia'], axis = 1, inplace = True)"
   ]
  },
  {
   "cell_type": "code",
   "execution_count": 89,
   "metadata": {},
   "outputs": [],
   "source": [
    "# Obtención del día\n",
    "datos['nombre_dia'] = datos['fecha_hora'].dt.day_name()"
   ]
  },
  {
   "cell_type": "code",
   "execution_count": 90,
   "metadata": {},
   "outputs": [
    {
     "data": {
      "text/plain": [
       "array(['Monday', 'Thursday', 'Sunday', 'Friday', 'Wednesday', 'Saturday',\n",
       "       'Tuesday'], dtype=object)"
      ]
     },
     "execution_count": 90,
     "metadata": {},
     "output_type": "execute_result"
    }
   ],
   "source": [
    "datos.nombre_dia.unique()"
   ]
  },
  {
   "attachments": {},
   "cell_type": "markdown",
   "metadata": {},
   "source": [
    "Como se puede, observar, los días de la semana ahora tienen un formato estándar, aunque están en inglés. Por último, se corregirá el tipo de dato de la variable `corredor`, que si bien la documentación indica que es de tipo numérico, teniendo en cuenta que esta variable se asocia más con un identificador de los diferentes corredores de la ciudad, es más apropiado tener esta variable como categórica."
   ]
  },
  {
   "cell_type": "code",
   "execution_count": 91,
   "metadata": {},
   "outputs": [],
   "source": [
    "datos['corredor'] = datos['corredor'].astype(object)"
   ]
  },
  {
   "attachments": {},
   "cell_type": "markdown",
   "metadata": {},
   "source": [
    " Por último, la variable que tiene el tiempo de viaje en segundos, `tv_[s]`, será transformada para que sus unidades estén dadas en minutos, puesto que esta es una escala más comprensible para la mayoría del público."
   ]
  },
  {
   "cell_type": "code",
   "execution_count": 92,
   "metadata": {},
   "outputs": [],
   "source": [
    "datos['tv_[s]'] = datos['tv_[s]'] / 60\n",
    "datos.rename(columns = {'tv_[s]': 'tiempo_viaje'}, inplace = True)"
   ]
  },
  {
   "cell_type": "code",
   "execution_count": 93,
   "metadata": {},
   "outputs": [
    {
     "data": {
      "text/html": [
       "<div>\n",
       "<style scoped>\n",
       "    .dataframe tbody tr th:only-of-type {\n",
       "        vertical-align: middle;\n",
       "    }\n",
       "\n",
       "    .dataframe tbody tr th {\n",
       "        vertical-align: top;\n",
       "    }\n",
       "\n",
       "    .dataframe thead th {\n",
       "        text-align: right;\n",
       "    }\n",
       "</style>\n",
       "<table border=\"1\" class=\"dataframe\">\n",
       "  <thead>\n",
       "    <tr style=\"text-align: right;\">\n",
       "      <th></th>\n",
       "      <th>id</th>\n",
       "      <th>fecha_hora</th>\n",
       "      <th>tiempo_viaje</th>\n",
       "      <th>corredor</th>\n",
       "      <th>dia</th>\n",
       "      <th>mes</th>\n",
       "      <th>ano</th>\n",
       "      <th>hora</th>\n",
       "      <th>nombre_corredor</th>\n",
       "      <th>flujo_tipo</th>\n",
       "      <th>sentido</th>\n",
       "      <th>inicio</th>\n",
       "      <th>fin</th>\n",
       "      <th>longitud_km</th>\n",
       "      <th>tv_minutos</th>\n",
       "      <th>velocidad_km_h</th>\n",
       "      <th>tv_min_km</th>\n",
       "      <th>diasem</th>\n",
       "      <th>nombre_dia</th>\n",
       "    </tr>\n",
       "  </thead>\n",
       "  <tbody>\n",
       "    <tr>\n",
       "      <th>0</th>\n",
       "      <td>1210</td>\n",
       "      <td>2017-01-02 06:00:00</td>\n",
       "      <td>6.283333</td>\n",
       "      <td>2</td>\n",
       "      <td>1</td>\n",
       "      <td>2</td>\n",
       "      <td>2017</td>\n",
       "      <td>6</td>\n",
       "      <td>Avenida Regional</td>\n",
       "      <td>Continuo</td>\n",
       "      <td>SN</td>\n",
       "      <td>Tugo</td>\n",
       "      <td>San Juan</td>\n",
       "      <td>6.6</td>\n",
       "      <td>6.3</td>\n",
       "      <td>63.0</td>\n",
       "      <td>1.0</td>\n",
       "      <td>3</td>\n",
       "      <td>Monday</td>\n",
       "    </tr>\n",
       "    <tr>\n",
       "      <th>1</th>\n",
       "      <td>1212</td>\n",
       "      <td>2017-01-02 06:00:00</td>\n",
       "      <td>8.250000</td>\n",
       "      <td>4</td>\n",
       "      <td>1</td>\n",
       "      <td>2</td>\n",
       "      <td>2017</td>\n",
       "      <td>6</td>\n",
       "      <td>Autopista Sur</td>\n",
       "      <td>Continuo</td>\n",
       "      <td>NS</td>\n",
       "      <td>CTI</td>\n",
       "      <td>Calle 10</td>\n",
       "      <td>6.5</td>\n",
       "      <td>8.3</td>\n",
       "      <td>47.0</td>\n",
       "      <td>1.3</td>\n",
       "      <td>3</td>\n",
       "      <td>Monday</td>\n",
       "    </tr>\n",
       "    <tr>\n",
       "      <th>2</th>\n",
       "      <td>1213</td>\n",
       "      <td>2017-01-02 06:00:00</td>\n",
       "      <td>8.250000</td>\n",
       "      <td>5</td>\n",
       "      <td>1</td>\n",
       "      <td>2</td>\n",
       "      <td>2017</td>\n",
       "      <td>6</td>\n",
       "      <td>Autopista Norte</td>\n",
       "      <td>Continuo</td>\n",
       "      <td>NS</td>\n",
       "      <td>Solla</td>\n",
       "      <td>Punto Cero</td>\n",
       "      <td>5.3</td>\n",
       "      <td>8.3</td>\n",
       "      <td>39.0</td>\n",
       "      <td>1.6</td>\n",
       "      <td>3</td>\n",
       "      <td>Monday</td>\n",
       "    </tr>\n",
       "    <tr>\n",
       "      <th>3</th>\n",
       "      <td>1214</td>\n",
       "      <td>2017-01-02 06:00:00</td>\n",
       "      <td>6.683333</td>\n",
       "      <td>6</td>\n",
       "      <td>1</td>\n",
       "      <td>2</td>\n",
       "      <td>2017</td>\n",
       "      <td>6</td>\n",
       "      <td>Autopista Norte</td>\n",
       "      <td>Continuo</td>\n",
       "      <td>SN</td>\n",
       "      <td>Punto Cero</td>\n",
       "      <td>Solla</td>\n",
       "      <td>5.3</td>\n",
       "      <td>6.7</td>\n",
       "      <td>48.0</td>\n",
       "      <td>1.3</td>\n",
       "      <td>3</td>\n",
       "      <td>Monday</td>\n",
       "    </tr>\n",
       "    <tr>\n",
       "      <th>4</th>\n",
       "      <td>1215</td>\n",
       "      <td>2017-01-02 06:00:00</td>\n",
       "      <td>11.550000</td>\n",
       "      <td>7</td>\n",
       "      <td>1</td>\n",
       "      <td>2</td>\n",
       "      <td>2017</td>\n",
       "      <td>6</td>\n",
       "      <td>Avenida 80</td>\n",
       "      <td>Interrumpido</td>\n",
       "      <td>NS</td>\n",
       "      <td>Calle 65</td>\n",
       "      <td>Calle 30</td>\n",
       "      <td>5.1</td>\n",
       "      <td>11.6</td>\n",
       "      <td>26.0</td>\n",
       "      <td>2.3</td>\n",
       "      <td>3</td>\n",
       "      <td>Monday</td>\n",
       "    </tr>\n",
       "  </tbody>\n",
       "</table>\n",
       "</div>"
      ],
      "text/plain": [
       "     id          fecha_hora  tiempo_viaje corredor  dia  mes   ano  hora  \\\n",
       "0  1210 2017-01-02 06:00:00      6.283333        2    1    2  2017     6   \n",
       "1  1212 2017-01-02 06:00:00      8.250000        4    1    2  2017     6   \n",
       "2  1213 2017-01-02 06:00:00      8.250000        5    1    2  2017     6   \n",
       "3  1214 2017-01-02 06:00:00      6.683333        6    1    2  2017     6   \n",
       "4  1215 2017-01-02 06:00:00     11.550000        7    1    2  2017     6   \n",
       "\n",
       "    nombre_corredor    flujo_tipo sentido      inicio         fin  \\\n",
       "0  Avenida Regional      Continuo      SN        Tugo    San Juan   \n",
       "1     Autopista Sur      Continuo      NS         CTI    Calle 10   \n",
       "2   Autopista Norte      Continuo      NS       Solla  Punto Cero   \n",
       "3   Autopista Norte      Continuo      SN  Punto Cero       Solla   \n",
       "4        Avenida 80  Interrumpido      NS    Calle 65    Calle 30   \n",
       "\n",
       "   longitud_km  tv_minutos  velocidad_km_h  tv_min_km  diasem nombre_dia  \n",
       "0          6.6         6.3            63.0        1.0       3     Monday  \n",
       "1          6.5         8.3            47.0        1.3       3     Monday  \n",
       "2          5.3         8.3            39.0        1.6       3     Monday  \n",
       "3          5.3         6.7            48.0        1.3       3     Monday  \n",
       "4          5.1        11.6            26.0        2.3       3     Monday  "
      ]
     },
     "execution_count": 93,
     "metadata": {},
     "output_type": "execute_result"
    }
   ],
   "source": [
    "datos.head()"
   ]
  },
  {
   "attachments": {},
   "cell_type": "markdown",
   "metadata": {},
   "source": [
    "## <span style = 'color: red'>Resúmenes numéricos y gráficos</span>\n",
    "\n",
    "Habiendo realizado algunas adecuaciones básicas al marco de datos, se procederá con la realización de algunos resúmenes numéricos a este marco de datos. Comencemos entonces con las variables cuantitativas:"
   ]
  },
  {
   "cell_type": "code",
   "execution_count": 120,
   "metadata": {},
   "outputs": [
    {
     "data": {
      "text/html": [
       "<div>\n",
       "<style scoped>\n",
       "    .dataframe tbody tr th:only-of-type {\n",
       "        vertical-align: middle;\n",
       "    }\n",
       "\n",
       "    .dataframe tbody tr th {\n",
       "        vertical-align: top;\n",
       "    }\n",
       "\n",
       "    .dataframe thead th {\n",
       "        text-align: right;\n",
       "    }\n",
       "</style>\n",
       "<table border=\"1\" class=\"dataframe\">\n",
       "  <thead>\n",
       "    <tr style=\"text-align: right;\">\n",
       "      <th></th>\n",
       "      <th>tiempo_viaje</th>\n",
       "      <th>velocidad_km_h</th>\n",
       "    </tr>\n",
       "  </thead>\n",
       "  <tbody>\n",
       "    <tr>\n",
       "      <th>count</th>\n",
       "      <td>682502.00</td>\n",
       "      <td>682502.00</td>\n",
       "    </tr>\n",
       "    <tr>\n",
       "      <th>mean</th>\n",
       "      <td>8.82</td>\n",
       "      <td>29.49</td>\n",
       "    </tr>\n",
       "    <tr>\n",
       "      <th>std</th>\n",
       "      <td>3.69</td>\n",
       "      <td>13.47</td>\n",
       "    </tr>\n",
       "    <tr>\n",
       "      <th>min</th>\n",
       "      <td>3.17</td>\n",
       "      <td>3.00</td>\n",
       "    </tr>\n",
       "    <tr>\n",
       "      <th>25%</th>\n",
       "      <td>6.30</td>\n",
       "      <td>19.00</td>\n",
       "    </tr>\n",
       "    <tr>\n",
       "      <th>50%</th>\n",
       "      <td>7.75</td>\n",
       "      <td>26.00</td>\n",
       "    </tr>\n",
       "    <tr>\n",
       "      <th>75%</th>\n",
       "      <td>10.38</td>\n",
       "      <td>38.00</td>\n",
       "    </tr>\n",
       "    <tr>\n",
       "      <th>max</th>\n",
       "      <td>76.47</td>\n",
       "      <td>79.20</td>\n",
       "    </tr>\n",
       "  </tbody>\n",
       "</table>\n",
       "</div>"
      ],
      "text/plain": [
       "       tiempo_viaje  velocidad_km_h\n",
       "count     682502.00       682502.00\n",
       "mean           8.82           29.49\n",
       "std            3.69           13.47\n",
       "min            3.17            3.00\n",
       "25%            6.30           19.00\n",
       "50%            7.75           26.00\n",
       "75%           10.38           38.00\n",
       "max           76.47           79.20"
      ]
     },
     "execution_count": 120,
     "metadata": {},
     "output_type": "execute_result"
    }
   ],
   "source": [
    "round(datos[['tiempo_viaje', 'velocidad_km_h']].describe(), 2)"
   ]
  },
  {
   "attachments": {},
   "cell_type": "markdown",
   "metadata": {},
   "source": [
    "Como se puede observar, el tiempo promedio de viaje es de ocho minutos, siendo la desviación estándar de 3.68 minutos, con un mínimo de 3.17 minutos. Igualmente, la velocidad promedio por la que se transita por las vías estudiadas en este marco de datos es de 29.49 kilómetros, con una desviación estándar de 13.47 kilómetros."
   ]
  },
  {
   "cell_type": "code",
   "execution_count": 121,
   "metadata": {},
   "outputs": [
    {
     "data": {
      "image/png": "[encoded data removed]",
      "text/plain": [
       "<Figure size 360x360 with 1 Axes>"
      ]
     },
     "metadata": {
      "needs_background": "light"
     },
     "output_type": "display_data"
    }
   ],
   "source": [
    "sns.displot(data = datos,\n",
    "            x = 'tiempo_viaje',\n",
    "            kind = 'hist',\n",
    "            stat = 'probability',\n",
    "            bins = 50)\n",
    "plt.title('Distribución del tiempo de viaje en\\nlos principales corredores de Medellín')\n",
    "plt.xlabel('Tiempo de viaje [s]')\n",
    "plt.ylabel('Proporción')\n",
    "plt.grid()\n",
    "plt.show()"
   ]
  },
  {
   "attachments": {},
   "cell_type": "markdown",
   "metadata": {},
   "source": [
    "Se puede observar que la distribución es sesgada positiva, y que una parte significativa de los viajes que ocurren en Medellín se dan bajo los diez minutos. Ahora, si estudiamos un gráfico semejante pero discriminado según el corredor:"
   ]
  },
  {
   "cell_type": "code",
   "execution_count": 122,
   "metadata": {},
   "outputs": [
    {
     "data": {
      "image/png": "[encoded data removed]",
      "text/plain": [
       "<Figure size 494.625x360 with 1 Axes>"
      ]
     },
     "metadata": {
      "needs_background": "light"
     },
     "output_type": "display_data"
    }
   ],
   "source": [
    "sns.displot(data = datos,\n",
    "            x = 'tiempo_viaje',\n",
    "            hue = 'nombre_corredor',\n",
    "            kind = 'kde')\n",
    "plt.title('Distribución del tiempo de viaje en\\nlos principales corredores de Medellín')\n",
    "plt.xlabel('Tiempo de viaje [s]')\n",
    "plt.ylabel('Proporción')\n",
    "plt.grid()\n",
    "plt.show()"
   ]
  },
  {
   "attachments": {},
   "cell_type": "markdown",
   "metadata": {},
   "source": [
    "Se puede observar que el corredor donde los viajes toman más tiempo es el de la avenida 80."
   ]
  },
  {
   "attachments": {},
   "cell_type": "markdown",
   "metadata": {},
   "source": [
    "# <span style = 'color: red'>Procesamiento de datos según su tipo</span>\n",
    "\n",
    "## Variables cuantitativas\n",
    "\n",
    "Se va a estandarizar el tipo de datos de las variables `tiempo_viaje` y `velocidad_km_h`."
   ]
  },
  {
   "cell_type": "code",
   "execution_count": 130,
   "metadata": {},
   "outputs": [],
   "source": [
    "# Estandarizador\n",
    "estandarizador = preprocessing.StandardScaler()\n",
    "\n",
    "# Estandarización de las variables de interés\n",
    "estandarizado = estandarizador.fit_transform(datos[['tiempo_viaje', 'velocidad_km_h']])\n",
    "estandarizado = pd.DataFrame(estandarizado, columns = ['tiempo_viaje', 'velocidad_km_h'])"
   ]
  },
  {
   "cell_type": "code",
   "execution_count": 131,
   "metadata": {},
   "outputs": [
    {
     "data": {
      "text/html": [
       "<div>\n",
       "<style scoped>\n",
       "    .dataframe tbody tr th:only-of-type {\n",
       "        vertical-align: middle;\n",
       "    }\n",
       "\n",
       "    .dataframe tbody tr th {\n",
       "        vertical-align: top;\n",
       "    }\n",
       "\n",
       "    .dataframe thead th {\n",
       "        text-align: right;\n",
       "    }\n",
       "</style>\n",
       "<table border=\"1\" class=\"dataframe\">\n",
       "  <thead>\n",
       "    <tr style=\"text-align: right;\">\n",
       "      <th></th>\n",
       "      <th>tiempo_viaje</th>\n",
       "      <th>velocidad_km_h</th>\n",
       "    </tr>\n",
       "  </thead>\n",
       "  <tbody>\n",
       "    <tr>\n",
       "      <th>0</th>\n",
       "      <td>-0.686915</td>\n",
       "      <td>2.488020</td>\n",
       "    </tr>\n",
       "    <tr>\n",
       "      <th>1</th>\n",
       "      <td>-0.153481</td>\n",
       "      <td>1.300014</td>\n",
       "    </tr>\n",
       "    <tr>\n",
       "      <th>2</th>\n",
       "      <td>-0.153481</td>\n",
       "      <td>0.706011</td>\n",
       "    </tr>\n",
       "    <tr>\n",
       "      <th>3</th>\n",
       "      <td>-0.578420</td>\n",
       "      <td>1.374264</td>\n",
       "    </tr>\n",
       "    <tr>\n",
       "      <th>4</th>\n",
       "      <td>0.741605</td>\n",
       "      <td>-0.259244</td>\n",
       "    </tr>\n",
       "    <tr>\n",
       "      <th>...</th>\n",
       "      <td>...</td>\n",
       "      <td>...</td>\n",
       "    </tr>\n",
       "    <tr>\n",
       "      <th>682497</th>\n",
       "      <td>-0.406636</td>\n",
       "      <td>-0.667622</td>\n",
       "    </tr>\n",
       "    <tr>\n",
       "      <th>682498</th>\n",
       "      <td>-0.967195</td>\n",
       "      <td>-0.236969</td>\n",
       "    </tr>\n",
       "    <tr>\n",
       "      <th>682499</th>\n",
       "      <td>-0.298141</td>\n",
       "      <td>-0.860673</td>\n",
       "    </tr>\n",
       "    <tr>\n",
       "      <th>682500</th>\n",
       "      <td>-0.759246</td>\n",
       "      <td>-1.001748</td>\n",
       "    </tr>\n",
       "    <tr>\n",
       "      <th>682501</th>\n",
       "      <td>-1.116376</td>\n",
       "      <td>-0.675047</td>\n",
       "    </tr>\n",
       "  </tbody>\n",
       "</table>\n",
       "<p>682502 rows × 2 columns</p>\n",
       "</div>"
      ],
      "text/plain": [
       "        tiempo_viaje  velocidad_km_h\n",
       "0          -0.686915        2.488020\n",
       "1          -0.153481        1.300014\n",
       "2          -0.153481        0.706011\n",
       "3          -0.578420        1.374264\n",
       "4           0.741605       -0.259244\n",
       "...              ...             ...\n",
       "682497     -0.406636       -0.667622\n",
       "682498     -0.967195       -0.236969\n",
       "682499     -0.298141       -0.860673\n",
       "682500     -0.759246       -1.001748\n",
       "682501     -1.116376       -0.675047\n",
       "\n",
       "[682502 rows x 2 columns]"
      ]
     },
     "execution_count": 131,
     "metadata": {},
     "output_type": "execute_result"
    }
   ],
   "source": [
    "estandarizado"
   ]
  },
  {
   "attachments": {},
   "cell_type": "markdown",
   "metadata": {},
   "source": [
    "Si estudiamos nuevamente la distribución del tiempo de viaje:"
   ]
  },
  {
   "cell_type": "code",
   "execution_count": 132,
   "metadata": {},
   "outputs": [
    {
     "data": {
      "image/png": "[encoded data removed]",
      "text/plain": [
       "<Figure size 360x360 with 1 Axes>"
      ]
     },
     "metadata": {
      "needs_background": "light"
     },
     "output_type": "display_data"
    }
   ],
   "source": [
    "sns.displot(data = estandarizado,\n",
    "            x = 'tiempo_viaje',\n",
    "            kind = 'hist',\n",
    "            stat = 'probability',\n",
    "            bins = 50)\n",
    "plt.title('Distribución del tiempo de viaje en\\nlos principales corredores de Medellín')\n",
    "plt.xlabel('Tiempo de viaje [s]')\n",
    "plt.ylabel('Proporción')\n",
    "plt.grid()\n",
    "plt.show()"
   ]
  },
  {
   "cell_type": "code",
   "execution_count": 134,
   "metadata": {},
   "outputs": [
    {
     "data": {
      "text/html": [
       "<div>\n",
       "<style scoped>\n",
       "    .dataframe tbody tr th:only-of-type {\n",
       "        vertical-align: middle;\n",
       "    }\n",
       "\n",
       "    .dataframe tbody tr th {\n",
       "        vertical-align: top;\n",
       "    }\n",
       "\n",
       "    .dataframe thead th {\n",
       "        text-align: right;\n",
       "    }\n",
       "</style>\n",
       "<table border=\"1\" class=\"dataframe\">\n",
       "  <thead>\n",
       "    <tr style=\"text-align: right;\">\n",
       "      <th></th>\n",
       "      <th>tiempo_viaje</th>\n",
       "      <th>velocidad_km_h</th>\n",
       "    </tr>\n",
       "  </thead>\n",
       "  <tbody>\n",
       "    <tr>\n",
       "      <th>count</th>\n",
       "      <td>6.825020e+05</td>\n",
       "      <td>6.825020e+05</td>\n",
       "    </tr>\n",
       "    <tr>\n",
       "      <th>mean</th>\n",
       "      <td>-2.190443e-16</td>\n",
       "      <td>3.609651e-16</td>\n",
       "    </tr>\n",
       "    <tr>\n",
       "      <th>std</th>\n",
       "      <td>1.000001e+00</td>\n",
       "      <td>1.000001e+00</td>\n",
       "    </tr>\n",
       "    <tr>\n",
       "      <th>min</th>\n",
       "      <td>-1.532274e+00</td>\n",
       "      <td>-1.967003e+00</td>\n",
       "    </tr>\n",
       "    <tr>\n",
       "      <th>25%</th>\n",
       "      <td>-6.823949e-01</td>\n",
       "      <td>-7.789971e-01</td>\n",
       "    </tr>\n",
       "    <tr>\n",
       "      <th>50%</th>\n",
       "      <td>-2.890996e-01</td>\n",
       "      <td>-2.592443e-01</td>\n",
       "    </tr>\n",
       "    <tr>\n",
       "      <th>75%</th>\n",
       "      <td>4.251608e-01</td>\n",
       "      <td>6.317604e-01</td>\n",
       "    </tr>\n",
       "    <tr>\n",
       "      <th>max</th>\n",
       "      <td>1.834948e+01</td>\n",
       "      <td>3.690877e+00</td>\n",
       "    </tr>\n",
       "  </tbody>\n",
       "</table>\n",
       "</div>"
      ],
      "text/plain": [
       "       tiempo_viaje  velocidad_km_h\n",
       "count  6.825020e+05    6.825020e+05\n",
       "mean  -2.190443e-16    3.609651e-16\n",
       "std    1.000001e+00    1.000001e+00\n",
       "min   -1.532274e+00   -1.967003e+00\n",
       "25%   -6.823949e-01   -7.789971e-01\n",
       "50%   -2.890996e-01   -2.592443e-01\n",
       "75%    4.251608e-01    6.317604e-01\n",
       "max    1.834948e+01    3.690877e+00"
      ]
     },
     "execution_count": 134,
     "metadata": {},
     "output_type": "execute_result"
    }
   ],
   "source": [
    "estandarizado.describe()"
   ]
  },
  {
   "attachments": {},
   "cell_type": "markdown",
   "metadata": {},
   "source": [
    "Si se considera una transformación no lineal:"
   ]
  },
  {
   "cell_type": "code",
   "execution_count": 137,
   "metadata": {},
   "outputs": [],
   "source": [
    "# Marco de datos con transformaciones no lineales:\n",
    "nl = pd.DataFrame()\n",
    "nl['tiempo_viaje'] = datos.tiempo_viaje.apply(lambda x: np.tanh(x/5000))\n",
    "nl['velocidad_km_h'] = datos.velocidad_km_h.apply(lambda x: np.tanh(x/500))"
   ]
  },
  {
   "cell_type": "code",
   "execution_count": 138,
   "metadata": {},
   "outputs": [
    {
     "data": {
      "image/png": "[encoded data removed]",
      "text/plain": [
       "<Figure size 360x360 with 1 Axes>"
      ]
     },
     "metadata": {
      "needs_background": "light"
     },
     "output_type": "display_data"
    }
   ],
   "source": [
    "sns.displot(data = nl,\n",
    "            x = 'tiempo_viaje',\n",
    "            kind = 'hist',\n",
    "            stat = 'probability',\n",
    "            bins = 50)\n",
    "plt.title('Distribución del tiempo de viaje en\\nlos principales corredores de Medellín')\n",
    "plt.xlabel('Tiempo de viaje [s]')\n",
    "plt.ylabel('Proporción')\n",
    "plt.grid()\n",
    "plt.show()"
   ]
  },
  {
   "attachments": {},
   "cell_type": "markdown",
   "metadata": {},
   "source": [
    "## Variable cualitativa\n",
    "\n",
    "Se considerará el caso de la variable relacionada con el corredor: `nombre_corredor`"
   ]
  },
  {
   "cell_type": "code",
   "execution_count": 150,
   "metadata": {},
   "outputs": [],
   "source": [
    "# Codificador One-Hot\n",
    "one_hot = preprocessing.OneHotEncoder(handle_unknown = 'ignore')\n",
    "\n",
    "# Codificación\n",
    "dummy = one_hot.fit_transform(datos[['nombre_corredor']]).toarray()"
   ]
  },
  {
   "cell_type": "code",
   "execution_count": 151,
   "metadata": {},
   "outputs": [],
   "source": [
    "dummy = pd.DataFrame(dummy, columns = one_hot.get_feature_names_out().tolist())"
   ]
  },
  {
   "cell_type": "code",
   "execution_count": 152,
   "metadata": {},
   "outputs": [
    {
     "data": {
      "text/html": [
       "<div>\n",
       "<style scoped>\n",
       "    .dataframe tbody tr th:only-of-type {\n",
       "        vertical-align: middle;\n",
       "    }\n",
       "\n",
       "    .dataframe tbody tr th {\n",
       "        vertical-align: top;\n",
       "    }\n",
       "\n",
       "    .dataframe thead th {\n",
       "        text-align: right;\n",
       "    }\n",
       "</style>\n",
       "<table border=\"1\" class=\"dataframe\">\n",
       "  <thead>\n",
       "    <tr style=\"text-align: right;\">\n",
       "      <th></th>\n",
       "      <th>nombre_corredor_Autopista Norte</th>\n",
       "      <th>nombre_corredor_Autopista Sur</th>\n",
       "      <th>nombre_corredor_Avenida 33</th>\n",
       "      <th>nombre_corredor_Avenida 80</th>\n",
       "      <th>nombre_corredor_Avenida El Poblado</th>\n",
       "      <th>nombre_corredor_Avenida Ferrocarril</th>\n",
       "      <th>nombre_corredor_Avenida Guayabal</th>\n",
       "      <th>nombre_corredor_Avenida Las Palmas</th>\n",
       "      <th>nombre_corredor_Avenida Oriental</th>\n",
       "      <th>nombre_corredor_Avenida Regional</th>\n",
       "      <th>nombre_corredor_Avenida San Juan</th>\n",
       "      <th>nombre_corredor_Calle 30</th>\n",
       "    </tr>\n",
       "  </thead>\n",
       "  <tbody>\n",
       "    <tr>\n",
       "      <th>0</th>\n",
       "      <td>0.0</td>\n",
       "      <td>0.0</td>\n",
       "      <td>0.0</td>\n",
       "      <td>0.0</td>\n",
       "      <td>0.0</td>\n",
       "      <td>0.0</td>\n",
       "      <td>0.0</td>\n",
       "      <td>0.0</td>\n",
       "      <td>0.0</td>\n",
       "      <td>1.0</td>\n",
       "      <td>0.0</td>\n",
       "      <td>0.0</td>\n",
       "    </tr>\n",
       "    <tr>\n",
       "      <th>1</th>\n",
       "      <td>0.0</td>\n",
       "      <td>1.0</td>\n",
       "      <td>0.0</td>\n",
       "      <td>0.0</td>\n",
       "      <td>0.0</td>\n",
       "      <td>0.0</td>\n",
       "      <td>0.0</td>\n",
       "      <td>0.0</td>\n",
       "      <td>0.0</td>\n",
       "      <td>0.0</td>\n",
       "      <td>0.0</td>\n",
       "      <td>0.0</td>\n",
       "    </tr>\n",
       "    <tr>\n",
       "      <th>2</th>\n",
       "      <td>1.0</td>\n",
       "      <td>0.0</td>\n",
       "      <td>0.0</td>\n",
       "      <td>0.0</td>\n",
       "      <td>0.0</td>\n",
       "      <td>0.0</td>\n",
       "      <td>0.0</td>\n",
       "      <td>0.0</td>\n",
       "      <td>0.0</td>\n",
       "      <td>0.0</td>\n",
       "      <td>0.0</td>\n",
       "      <td>0.0</td>\n",
       "    </tr>\n",
       "    <tr>\n",
       "      <th>3</th>\n",
       "      <td>1.0</td>\n",
       "      <td>0.0</td>\n",
       "      <td>0.0</td>\n",
       "      <td>0.0</td>\n",
       "      <td>0.0</td>\n",
       "      <td>0.0</td>\n",
       "      <td>0.0</td>\n",
       "      <td>0.0</td>\n",
       "      <td>0.0</td>\n",
       "      <td>0.0</td>\n",
       "      <td>0.0</td>\n",
       "      <td>0.0</td>\n",
       "    </tr>\n",
       "    <tr>\n",
       "      <th>4</th>\n",
       "      <td>0.0</td>\n",
       "      <td>0.0</td>\n",
       "      <td>0.0</td>\n",
       "      <td>1.0</td>\n",
       "      <td>0.0</td>\n",
       "      <td>0.0</td>\n",
       "      <td>0.0</td>\n",
       "      <td>0.0</td>\n",
       "      <td>0.0</td>\n",
       "      <td>0.0</td>\n",
       "      <td>0.0</td>\n",
       "      <td>0.0</td>\n",
       "    </tr>\n",
       "  </tbody>\n",
       "</table>\n",
       "</div>"
      ],
      "text/plain": [
       "   nombre_corredor_Autopista Norte  nombre_corredor_Autopista Sur  \\\n",
       "0                              0.0                            0.0   \n",
       "1                              0.0                            1.0   \n",
       "2                              1.0                            0.0   \n",
       "3                              1.0                            0.0   \n",
       "4                              0.0                            0.0   \n",
       "\n",
       "   nombre_corredor_Avenida 33  nombre_corredor_Avenida 80  \\\n",
       "0                         0.0                         0.0   \n",
       "1                         0.0                         0.0   \n",
       "2                         0.0                         0.0   \n",
       "3                         0.0                         0.0   \n",
       "4                         0.0                         1.0   \n",
       "\n",
       "   nombre_corredor_Avenida El Poblado  nombre_corredor_Avenida Ferrocarril  \\\n",
       "0                                 0.0                                  0.0   \n",
       "1                                 0.0                                  0.0   \n",
       "2                                 0.0                                  0.0   \n",
       "3                                 0.0                                  0.0   \n",
       "4                                 0.0                                  0.0   \n",
       "\n",
       "   nombre_corredor_Avenida Guayabal  nombre_corredor_Avenida Las Palmas  \\\n",
       "0                               0.0                                 0.0   \n",
       "1                               0.0                                 0.0   \n",
       "2                               0.0                                 0.0   \n",
       "3                               0.0                                 0.0   \n",
       "4                               0.0                                 0.0   \n",
       "\n",
       "   nombre_corredor_Avenida Oriental  nombre_corredor_Avenida Regional  \\\n",
       "0                               0.0                               1.0   \n",
       "1                               0.0                               0.0   \n",
       "2                               0.0                               0.0   \n",
       "3                               0.0                               0.0   \n",
       "4                               0.0                               0.0   \n",
       "\n",
       "   nombre_corredor_Avenida San Juan  nombre_corredor_Calle 30  \n",
       "0                               0.0                       0.0  \n",
       "1                               0.0                       0.0  \n",
       "2                               0.0                       0.0  \n",
       "3                               0.0                       0.0  \n",
       "4                               0.0                       0.0  "
      ]
     },
     "execution_count": 152,
     "metadata": {},
     "output_type": "execute_result"
    }
   ],
   "source": [
    "dummy.head()"
   ]
  }
 ],
 "metadata": {
  "kernelspec": {
   "display_name": "Python 3",
   "language": "python",
   "name": "python3"
  },
  "language_info": {
   "codemirror_mode": {
    "name": "ipython",
    "version": 3
   },
   "file_extension": ".py",
   "mimetype": "text/x-python",
   "name": "python",
   "nbconvert_exporter": "python",
   "pygments_lexer": "ipython3",
   "version": "3.10.4"
  },
  "orig_nbformat": 4
 },
 "nbformat": 4,
 "nbformat_minor": 2
}
